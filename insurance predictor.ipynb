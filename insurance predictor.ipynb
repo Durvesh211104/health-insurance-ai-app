{
 "cells": [
  {
   "cell_type": "code",
   "execution_count": null,
   "id": "7cc72a42",
   "metadata": {},
   "outputs": [],
   "source": [
    "#durveshhhhhhhhhhhh"
   ]
  },
  {
   "cell_type": "code",
   "execution_count": 2,
   "id": "634d92c4",
   "metadata": {},
   "outputs": [
    {
     "data": {
      "text/plain": [
       "['insurance_model.pkl']"
      ]
     },
     "execution_count": 2,
     "metadata": {},
     "output_type": "execute_result"
    }
   ],
   "source": [
    "import pandas as pd\n",
    "from sklearn.ensemble import RandomForestRegressor\n",
    "from sklearn.model_selection import train_test_split\n",
    "import joblib\n",
    "\n",
    "# Load and encode\n",
    "df = pd.read_csv(r\"C:\\Users\\Durvesh\\Downloads\\insurance.csv\")\n",
    "df = pd.get_dummies(df, drop_first=True)\n",
    "\n",
    "X = df.drop(\"charges\", axis=1)\n",
    "y = df[\"charges\"]\n",
    "\n",
    "X_train, X_test, y_train, y_test = train_test_split(X, y, test_size=0.2, random_state=42)\n",
    "model = RandomForestRegressor()\n",
    "model.fit(X_train, y_train)\n",
    "\n",
    "# Save model\n",
    "joblib.dump(model, \"insurance_model.pkl\")\n"
   ]
  },
  {
   "cell_type": "code",
   "execution_count": 2,
   "id": "4474440b",
   "metadata": {},
   "outputs": [
    {
     "data": {
      "application/vnd.jupyter.widget-view+json": {
       "model_id": "a5af3e0ffe684768b3512c0ecb6913fd",
       "version_major": 2,
       "version_minor": 0
      },
      "text/plain": [
       "VBox(children=(IntSlider(value=30, description='Age:', min=18), FloatSlider(value=1.7, description='Height (m)…"
      ]
     },
     "metadata": {},
     "output_type": "display_data"
    }
   ],
   "source": [
    "import pandas as pd\n",
    "import numpy as np\n",
    "from sklearn.ensemble import RandomForestRegressor\n",
    "from sklearn.model_selection import train_test_split\n",
    "import joblib\n",
    "import ipywidgets as widgets\n",
    "from IPython.display import display, clear_output\n",
    "\n",
    "# Load or train model\n",
    "try:\n",
    "    model = joblib.load(\"insurance_model.pkl\")\n",
    "except:\n",
    "    df = pd.read_csv(\"insurance.csv\")\n",
    "    df = pd.get_dummies(df, drop_first=True)\n",
    "    X = df.drop(\"charges\", axis=1)\n",
    "    y = df[\"charges\"]\n",
    "    X_train, _, y_train, _ = train_test_split(X, y, test_size=0.2, random_state=42)\n",
    "    model = RandomForestRegressor()\n",
    "    model.fit(X_train, y_train)\n",
    "    joblib.dump(model, \"insurance_model.pkl\")\n",
    "\n",
    "# --- WIDGETS ---\n",
    "age = widgets.IntSlider(min=18, max=100, value=30, description='Age:')\n",
    "height = widgets.FloatSlider(min=1.2, max=2.2, step=0.01, value=1.7, description='Height (m):')\n",
    "weight = widgets.FloatSlider(min=30, max=150, step=1, value=70, description='Weight (kg):')\n",
    "children = widgets.IntSlider(min=0, max=5, value=1, description='Children:')\n",
    "sex = widgets.Dropdown(options=['male', 'female'], description='Sex:')\n",
    "smoker = widgets.Dropdown(options=['yes', 'no'], description='Smoker:')\n",
    "\n",
    "# Indian states for region\n",
    "region_map = {\n",
    "    \"Maharashtra\": \"west\",\n",
    "    \"Gujarat\": \"west\",\n",
    "    \"Punjab\": \"north\",\n",
    "    \"Delhi\": \"north\",\n",
    "    \"West Bengal\": \"east\",\n",
    "    \"Assam\": \"east\",\n",
    "    \"Kerala\": \"south\",\n",
    "    \"Tamil Nadu\": \"south\",\n",
    "    \"Karnataka\": \"south\",\n",
    "    \"Uttar Pradesh\": \"north\"\n",
    "}\n",
    "region_dropdown = widgets.Dropdown(options=list(region_map.keys()), description='State:')\n",
    "\n",
    "button = widgets.Button(description=\"Predict 💰\")\n",
    "output = widgets.Output()\n",
    "\n",
    "# --- FUNCTION ---\n",
    "def predict_premium(b):\n",
    "    output.clear_output()\n",
    "    \n",
    "    # BMI calculation\n",
    "    bmi_value = weight.value / (height.value ** 2)\n",
    "    if bmi_value < 18.5:\n",
    "        bmi_category = \"Underweight\"\n",
    "    elif bmi_value < 24.9:\n",
    "        bmi_category = \"Normal\"\n",
    "    elif bmi_value < 29.9:\n",
    "        bmi_category = \"Overweight\"\n",
    "    else:\n",
    "        bmi_category = \"Obese\"\n",
    "\n",
    "    # ML feature encoding\n",
    "    sex_male = 1 if sex.value == \"male\" else 0\n",
    "    smoker_yes = 1 if smoker.value == \"yes\" else 0\n",
    "\n",
    "    region = region_map[region_dropdown.value]\n",
    "    region_northwest = 1 if region == \"north\" else 0\n",
    "    region_southeast = 1 if region == \"south\" else 0\n",
    "    region_southwest = 1 if region == \"west\" else 0\n",
    "\n",
    "    features = np.array([[age.value, bmi_value, children.value,\n",
    "                          sex_male, smoker_yes, region_northwest,\n",
    "                          region_southeast, region_southwest]])\n",
    "    \n",
    "    predicted_cost = model.predict(features)[0]\n",
    "\n",
    "    # Simulated policy suggestions\n",
    "    suggestions = {\n",
    "        \"north\": [\"Max Bupa\", \"Star Health\"],\n",
    "        \"south\": [\"Niva Bupa\", \"Religare\"],\n",
    "        \"west\": [\"Care Health\", \"Tata AIG\"],\n",
    "        \"east\": [\"HDFC Ergo\", \"ICICI Lombard\"]\n",
    "    }\n",
    "\n",
    "    expense_coverage = [\n",
    "        \"- Pre/post hospitalization (30/60 days)\",\n",
    "        \"- Room rent, ICU, surgeries\",\n",
    "        \"- Day care procedures\",\n",
    "        \"- AYUSH coverage\",\n",
    "        \"- Maternity (some plans)\"\n",
    "    ]\n",
    "\n",
    "    with output:\n",
    "        print(f\"📏 BMI: {bmi_value:.2f} — {bmi_category}\")\n",
    "        print(f\"💰 Estimated Premium: ₹{round(predicted_cost):,}\")\n",
    "        print(f\"🏢 Suggested Insurers in {region_dropdown.value}:\")\n",
    "        for comp in suggestions[region]:\n",
    "            print(f\"   ✔ {comp}\")\n",
    "        print(\"\\n🧾 Common Expenses Covered:\")\n",
    "        for item in expense_coverage:\n",
    "            print(f\"   - {item}\")\n",
    "\n",
    "button.on_click(predict_premium)\n",
    "\n",
    "# --- DISPLAY ---\n",
    "display(widgets.VBox([\n",
    "    age, height, weight, children, sex, smoker, region_dropdown,\n",
    "    button, output\n",
    "]))\n"
   ]
  }
 ],
 "metadata": {
  "kernelspec": {
   "display_name": "Python 3",
   "language": "python",
   "name": "python3"
  },
  "language_info": {
   "codemirror_mode": {
    "name": "ipython",
    "version": 3
   },
   "file_extension": ".py",
   "mimetype": "text/x-python",
   "name": "python",
   "nbconvert_exporter": "python",
   "pygments_lexer": "ipython3",
   "version": "3.10.0"
  }
 },
 "nbformat": 4,
 "nbformat_minor": 5
}
